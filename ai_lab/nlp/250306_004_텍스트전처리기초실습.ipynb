{
 "cells": [
  {
   "cell_type": "code",
   "execution_count": 1,
   "metadata": {},
   "outputs": [
    {
     "name": "stdout",
     "output_type": "stream",
     "text": [
      "Collecting nltk\n",
      "  Downloading nltk-3.9.1-py3-none-any.whl.metadata (2.9 kB)\n",
      "Requirement already satisfied: click in c:\\users\\youngjin\\.conda\\envs\\py310_cv\\lib\\site-packages (from nltk) (8.1.8)\n",
      "Requirement already satisfied: joblib in c:\\users\\youngjin\\.conda\\envs\\py310_cv\\lib\\site-packages (from nltk) (1.4.2)\n",
      "Collecting regex>=2021.8.3 (from nltk)\n",
      "  Using cached regex-2024.11.6-cp310-cp310-win_amd64.whl.metadata (41 kB)\n",
      "Requirement already satisfied: tqdm in c:\\users\\youngjin\\.conda\\envs\\py310_cv\\lib\\site-packages (from nltk) (4.67.1)\n",
      "Requirement already satisfied: colorama in c:\\users\\youngjin\\.conda\\envs\\py310_cv\\lib\\site-packages (from click->nltk) (0.4.6)\n",
      "Downloading nltk-3.9.1-py3-none-any.whl (1.5 MB)\n",
      "   ---------------------------------------- 0.0/1.5 MB ? eta -:--:--\n",
      "   ---------------------------------------- 1.5/1.5 MB 26.5 MB/s eta 0:00:00\n",
      "Using cached regex-2024.11.6-cp310-cp310-win_amd64.whl (274 kB)\n",
      "Installing collected packages: regex, nltk\n",
      "Successfully installed nltk-3.9.1 regex-2024.11.6\n"
     ]
    }
   ],
   "source": [
    "# !pip install nltk"
   ]
  },
  {
   "cell_type": "code",
   "execution_count": 5,
   "metadata": {},
   "outputs": [
    {
     "name": "stderr",
     "output_type": "stream",
     "text": [
      "[nltk_data] Downloading package punkt_tab to\n",
      "[nltk_data]     C:\\Users\\YoungJin\\AppData\\Roaming\\nltk_data...\n",
      "[nltk_data]   Unzipping tokenizers\\punkt_tab.zip.\n"
     ]
    }
   ],
   "source": [
    "import nltk\n",
    "# nltk.download('punkt')\n",
    "nltk.download('punkt_tab')\n",
    "\n",
    "from nltk.tokenize import word_tokenize\n",
    "from nltk.tokenize import WordPunctTokenizer\n",
    "from nltk.tokenize import TreebankWordTokenizer"
   ]
  },
  {
   "cell_type": "code",
   "execution_count": 6,
   "metadata": {},
   "outputs": [],
   "source": [
    "text = \"You won't be able to know about natural language perfectly, but you need to master a number of preprocessing skills to perform natural language processing.\""
   ]
  },
  {
   "cell_type": "code",
   "execution_count": 7,
   "metadata": {},
   "outputs": [
    {
     "data": {
      "text/plain": [
       "['You',\n",
       " 'wo',\n",
       " \"n't\",\n",
       " 'be',\n",
       " 'able',\n",
       " 'to',\n",
       " 'know',\n",
       " 'about',\n",
       " 'natural',\n",
       " 'language',\n",
       " 'perfectly',\n",
       " ',',\n",
       " 'but',\n",
       " 'you',\n",
       " 'need',\n",
       " 'to',\n",
       " 'master',\n",
       " 'a',\n",
       " 'number',\n",
       " 'of',\n",
       " 'preprocessing',\n",
       " 'skills',\n",
       " 'to',\n",
       " 'perform',\n",
       " 'natural',\n",
       " 'language',\n",
       " 'processing',\n",
       " '.']"
      ]
     },
     "execution_count": 7,
     "metadata": {},
     "output_type": "execute_result"
    }
   ],
   "source": [
    "# word_toknize\n",
    "word_tokenize(text)"
   ]
  },
  {
   "cell_type": "code",
   "execution_count": 8,
   "metadata": {},
   "outputs": [
    {
     "data": {
      "text/plain": [
       "['You',\n",
       " 'won',\n",
       " \"'\",\n",
       " 't',\n",
       " 'be',\n",
       " 'able',\n",
       " 'to',\n",
       " 'know',\n",
       " 'about',\n",
       " 'natural',\n",
       " 'language',\n",
       " 'perfectly',\n",
       " ',',\n",
       " 'but',\n",
       " 'you',\n",
       " 'need',\n",
       " 'to',\n",
       " 'master',\n",
       " 'a',\n",
       " 'number',\n",
       " 'of',\n",
       " 'preprocessing',\n",
       " 'skills',\n",
       " 'to',\n",
       " 'perform',\n",
       " 'natural',\n",
       " 'language',\n",
       " 'processing',\n",
       " '.']"
      ]
     },
     "execution_count": 8,
     "metadata": {},
     "output_type": "execute_result"
    }
   ],
   "source": [
    "# WordPunctTokenizer\n",
    "punct_tokenizer = WordPunctTokenizer() # 토크나이저를 선언\n",
    "\n",
    "punct_tokenizer.tokenize(text)"
   ]
  },
  {
   "cell_type": "code",
   "execution_count": 11,
   "metadata": {},
   "outputs": [
    {
     "name": "stdout",
     "output_type": "stream",
     "text": [
      "You won't be able to know about natural language perfectly, but you need to master a number of preprocessing skills to perform natural language processing.\n"
     ]
    },
    {
     "data": {
      "text/plain": [
       "['You',\n",
       " 'wo',\n",
       " \"n't\",\n",
       " 'be',\n",
       " 'able',\n",
       " 'to',\n",
       " 'know',\n",
       " 'about',\n",
       " 'natural',\n",
       " 'language',\n",
       " 'perfectly',\n",
       " ',',\n",
       " 'but',\n",
       " 'you',\n",
       " 'need',\n",
       " 'to',\n",
       " 'master',\n",
       " 'a',\n",
       " 'number',\n",
       " 'of',\n",
       " 'preprocessing',\n",
       " 'skills',\n",
       " 'to',\n",
       " 'perform',\n",
       " 'natural',\n",
       " 'language',\n",
       " 'processing',\n",
       " '.']"
      ]
     },
     "execution_count": 11,
     "metadata": {},
     "output_type": "execute_result"
    }
   ],
   "source": [
    "tree_tokenizer = TreebankWordTokenizer() # 토크나이저를 선언\n",
    "\n",
    "print(text)\n",
    "tree_tokenizer.tokenize(text)"
   ]
  },
  {
   "cell_type": "code",
   "execution_count": 12,
   "metadata": {},
   "outputs": [],
   "source": [
    "sentences = \"NLP stands for Natural Language Processing. \\\n",
    "It is a branch of artificial intelligence (AI) that focuses on the interaction between computers and human language. \\\n",
    "NLP combines techniques from linguistics, computer science, and machine learning to enable computers to understand, interpret, \\\n",
    "and generate human language in a way that is meaningful and useful.\""
   ]
  },
  {
   "cell_type": "code",
   "execution_count": 13,
   "metadata": {},
   "outputs": [
    {
     "data": {
      "text/plain": [
       "['NLP stands for Natural Language Processing.',\n",
       " 'It is a branch of artificial intelligence (AI) that focuses on the interaction between computers and human language.',\n",
       " 'NLP combines techniques from linguistics, computer science, and machine learning to enable computers to understand, interpret, and generate human language in a way that is meaningful and useful.']"
      ]
     },
     "execution_count": 13,
     "metadata": {},
     "output_type": "execute_result"
    }
   ],
   "source": [
    "nltk.sent_tokenize(sentences) # 문장단위로 분리"
   ]
  },
  {
   "cell_type": "code",
   "execution_count": 14,
   "metadata": {},
   "outputs": [],
   "source": [
    "sentences = \"I am actively looking for Ph.D. students. and you are a Ph.D student.\""
   ]
  },
  {
   "cell_type": "code",
   "execution_count": 15,
   "metadata": {},
   "outputs": [
    {
     "data": {
      "text/plain": [
       "['I am actively looking for Ph.D. students.', 'and you are a Ph.D student.']"
      ]
     },
     "execution_count": 15,
     "metadata": {},
     "output_type": "execute_result"
    }
   ],
   "source": [
    "nltk.sent_tokenize(sentences) # 문장단위로 분리"
   ]
  },
  {
   "cell_type": "code",
   "execution_count": 16,
   "metadata": {},
   "outputs": [
    {
     "name": "stderr",
     "output_type": "stream",
     "text": [
      "[nltk_data] Downloading package stopwords to\n",
      "[nltk_data]     C:\\Users\\YoungJin\\AppData\\Roaming\\nltk_data...\n"
     ]
    },
    {
     "name": "stdout",
     "output_type": "stream",
     "text": [
      "{\"mightn't\", \"aren't\", 'only', \"we're\", \"we'll\", 'shouldn', 'after', 'doing', 'd', 'were', \"doesn't\", 'through', 'same', \"isn't\", \"shouldn't\", 'further', 'but', \"she'll\", 'which', 'isn', 'then', 'when', \"they'll\", 'needn', 'your', 'her', 'themselves', 'them', 'again', 'can', 'myself', \"needn't\", 'don', 'll', 'with', 'as', \"weren't\", \"mustn't\", 'my', 'on', 'an', 'no', 'these', \"that'll\", 'i', 'the', 'are', 'won', \"she's\", 't', 'yourselves', \"they've\", 'off', 'between', 'both', 'that', 'into', 'out', 'doesn', 'there', 'being', 'this', \"we'd\", 'theirs', 'm', 'and', 'does', 'once', 'or', 'ours', 'itself', 've', 'here', 'should', 'own', 'who', \"don't\", 'in', 'ain', \"they'd\", 'so', 'do', 'down', 'wasn', \"you'd\", 'too', \"they're\", \"didn't\", 'aren', 'mightn', 'mustn', 'such', 'ma', 's', 'up', \"she'd\", 'whom', 'hers', \"should've\", \"wasn't\", \"won't\", 'yourself', 'you', 'during', 'haven', 'himself', 'she', 'about', 'it', \"he'll\", \"he'd\", 'will', \"hasn't\", 'any', 'be', 'below', 'other', \"wouldn't\", 'shan', 'not', \"it's\", 'against', 'because', 'under', 'where', 'if', 'have', \"haven't\", 'than', 'o', 'y', 'a', 'had', 'didn', \"shan't\", 'most', \"you've\", 'from', 'hadn', \"you're\", 'am', 'having', 're', 'weren', 'very', 'for', 'did', 'their', 'all', \"it'll\", 'above', 'just', \"hadn't\", 'him', 'ourselves', 'its', 'now', 'hasn', \"it'd\", 'we', 'has', 'his', 'at', \"he's\", 'while', \"i'd\", 'was', 'our', 'of', 'why', 'yours', 'more', \"you'll\", 'how', 'those', 'been', 'by', 'he', 'wouldn', 'me', 'to', 'until', \"i'll\", 'couldn', \"i'm\", 'is', \"couldn't\", 'each', 'they', \"we've\", \"i've\", 'over', 'what', 'few', 'before', 'herself', 'nor', 'some'}\n"
     ]
    },
    {
     "name": "stderr",
     "output_type": "stream",
     "text": [
      "[nltk_data]   Unzipping corpora\\stopwords.zip.\n"
     ]
    }
   ],
   "source": [
    "import nltk\n",
    "from nltk.corpus import stopwords\n",
    "nltk.download('stopwords') # nltk 내장 stopword 다운로드\n",
    "\n",
    "stop=set(stopwords.words('english'))\n",
    "print(stop)"
   ]
  },
  {
   "cell_type": "code",
   "execution_count": 17,
   "metadata": {},
   "outputs": [
    {
     "name": "stdout",
     "output_type": "stream",
     "text": [
      "불용어 포함:  ['I', 'want', 'to', 'go', 'to', 'shopping', 'and', 'a', 'I', 'want', 'to', 'buy', 'some', 'of', 'snack']\n",
      "불용어 미포함:  ['want', 'go', 'shopping', 'want', 'buy', 'snack']\n"
     ]
    }
   ],
   "source": [
    "sen=\"I want to go to shopping and a I want to buy some of snack\"\n",
    "tokens=nltk.word_tokenize(sen)\n",
    "\n",
    "clean_tokens=[]\n",
    "for tok in tokens:\n",
    "  if len(tok.lower())>1 and (tok.lower() not in stop): # 토큰의 길이가 1 초과이고, stopword에 속하지 않는 경우\n",
    "    clean_tokens.append(tok) # clean_tokens 리스트에 추가\n",
    "\n",
    "\n",
    "print(\"불용어 포함: \",tokens)\n",
    "print(\"불용어 미포함: \",clean_tokens)"
   ]
  },
  {
   "cell_type": "code",
   "execution_count": 18,
   "metadata": {},
   "outputs": [],
   "source": [
    "from nltk.stem import PorterStemmer\n",
    "from nltk.tokenize import word_tokenize"
   ]
  },
  {
   "cell_type": "code",
   "execution_count": 19,
   "metadata": {},
   "outputs": [
    {
     "name": "stdout",
     "output_type": "stream",
     "text": [
      "['This', 'was', 'not', 'the', 'map', 'we', 'found', 'in', 'Billy', 'Bones', \"'s\", 'chest', ',', 'but', 'an', 'accurate', 'copy', ',', 'complete', 'in', 'all', 'things', '--', 'names', 'and', 'heights', 'and', 'soundings', '--', 'with', 'the', 'single', 'exception', 'of', 'the', 'red', 'crosses', 'and', 'the', 'written', 'notes', '.']\n"
     ]
    }
   ],
   "source": [
    "s = PorterStemmer() # stemmer 선언\n",
    "text = \"This was not the map we found in Billy Bones's chest, but an accurate copy, complete in all things--names and heights and soundings--with the single exception of the red crosses and the written notes.\"\n",
    "words = word_tokenize(text)\n",
    "print(words)"
   ]
  },
  {
   "cell_type": "code",
   "execution_count": 20,
   "metadata": {},
   "outputs": [
    {
     "name": "stdout",
     "output_type": "stream",
     "text": [
      "This ==> thi\n",
      "was ==> wa\n",
      "not ==> not\n",
      "the ==> the\n",
      "map ==> map\n",
      "we ==> we\n",
      "found ==> found\n",
      "in ==> in\n",
      "Billy ==> billi\n",
      "Bones ==> bone\n",
      "'s ==> 's\n",
      "chest ==> chest\n",
      ", ==> ,\n",
      "but ==> but\n",
      "an ==> an\n",
      "accurate ==> accur\n",
      "copy ==> copi\n",
      ", ==> ,\n",
      "complete ==> complet\n",
      "in ==> in\n",
      "all ==> all\n",
      "things ==> thing\n",
      "-- ==> --\n",
      "names ==> name\n",
      "and ==> and\n",
      "heights ==> height\n",
      "and ==> and\n",
      "soundings ==> sound\n",
      "-- ==> --\n",
      "with ==> with\n",
      "the ==> the\n",
      "single ==> singl\n",
      "exception ==> except\n",
      "of ==> of\n",
      "the ==> the\n",
      "red ==> red\n",
      "crosses ==> cross\n",
      "and ==> and\n",
      "the ==> the\n",
      "written ==> written\n",
      "notes ==> note\n",
      ". ==> .\n"
     ]
    }
   ],
   "source": [
    "for i in words:\n",
    "  print(f'{i} ==> {s.stem(i)}') # stemming되기 이전단어와 이후 단어를 출력"
   ]
  },
  {
   "cell_type": "code",
   "execution_count": 21,
   "metadata": {},
   "outputs": [
    {
     "name": "stderr",
     "output_type": "stream",
     "text": [
      "[nltk_data] Downloading package wordnet to\n",
      "[nltk_data]     C:\\Users\\YoungJin\\AppData\\Roaming\\nltk_data...\n"
     ]
    },
    {
     "data": {
      "text/plain": [
       "True"
      ]
     },
     "execution_count": 21,
     "metadata": {},
     "output_type": "execute_result"
    }
   ],
   "source": [
    "from nltk.stem import WordNetLemmatizer\n",
    "nltk.download('wordnet')"
   ]
  },
  {
   "cell_type": "code",
   "execution_count": 22,
   "metadata": {},
   "outputs": [],
   "source": [
    "lemmatizer = WordNetLemmatizer() # lemmatizer 선언\n",
    "words = ['doing', 'has', 'going', 'loves', 'lives', 'flying', 'dies', 'watching', 'started', 'seen']"
   ]
  },
  {
   "cell_type": "code",
   "execution_count": 23,
   "metadata": {},
   "outputs": [
    {
     "name": "stdout",
     "output_type": "stream",
     "text": [
      "doing ==> do\n",
      "has ==> have\n",
      "going ==> go\n",
      "loves ==> love\n",
      "lives ==> live\n",
      "flying ==> fly\n",
      "dies ==> die\n",
      "watching ==> watch\n",
      "started ==> start\n",
      "seen ==> see\n"
     ]
    }
   ],
   "source": [
    "for i in words:\n",
    "  lemma = lemmatizer.lemmatize(i, pos='v')\n",
    "  print(f'{i} ==> {lemma}') # lemmatization되기 이전단어와 이후 단어를 출력"
   ]
  },
  {
   "cell_type": "code",
   "execution_count": 24,
   "metadata": {},
   "outputs": [],
   "source": [
    "import nltk\n",
    "from nltk.metrics import edit_distance"
   ]
  },
  {
   "cell_type": "code",
   "execution_count": 25,
   "metadata": {},
   "outputs": [
    {
     "name": "stdout",
     "output_type": "stream",
     "text": [
      "1\n"
     ]
    }
   ],
   "source": [
    "print(edit_distance(\"CAT\",\"HAT\"))"
   ]
  },
  {
   "cell_type": "code",
   "execution_count": 26,
   "metadata": {},
   "outputs": [
    {
     "name": "stderr",
     "output_type": "stream",
     "text": [
      "[nltk_data] Downloading package stopwords to\n",
      "[nltk_data]     C:\\Users\\YoungJin\\AppData\\Roaming\\nltk_data...\n",
      "[nltk_data]   Package stopwords is already up-to-date!\n"
     ]
    },
    {
     "data": {
      "text/plain": [
       "True"
      ]
     },
     "execution_count": 26,
     "metadata": {},
     "output_type": "execute_result"
    }
   ],
   "source": [
    "import nltk\n",
    "import urllib\n",
    "import re\n",
    "from bs4 import BeautifulSoup\n",
    "from nltk.corpus import stopwords\n",
    "import matplotlib\n",
    "import matplotlib.pyplot as plt\n",
    "import random\n",
    "\n",
    "#nltk.download('averaged_perceptron_tagger')\n",
    "nltk.download('stopwords')"
   ]
  },
  {
   "cell_type": "code",
   "execution_count": 27,
   "metadata": {},
   "outputs": [
    {
     "data": {
      "text/plain": [
       "<Axes: xlabel='Samples', ylabel='Counts'>"
      ]
     },
     "execution_count": 27,
     "metadata": {},
     "output_type": "execute_result"
    },
    {
     "data": {
      "image/png": "[encoded data removed]",
      "text/plain": [
       "<Figure size 640x480 with 1 Axes>"
      ]
     },
     "metadata": {},
     "output_type": "display_data"
    }
   ],
   "source": [
    "response=urllib.request.urlopen('http://python.org/') # 웹에 정보를 요청한 후, 돌려받은 응답을 저장하여 ‘응답 객체(HTTPResponse)’를 반환\n",
    "html=response.read()\n",
    "clean=BeautifulSoup(html,'html.parser').get_text() # html 코드 정제 진행\n",
    "\n",
    "tokens=[]\n",
    "for tok in clean.split():\n",
    "  tokens.append(tok) # tokens 리스트에 토큰들을 추가\n",
    "\n",
    "stop=set(stopwords.words('english')) # 불용어 선언\n",
    "\n",
    "clean_tokens=[]\n",
    "for tok in tokens:\n",
    "  if len(tok.lower())>1 and (tok.lower() not in stop): # 길이가 1 초과이며 stop word가 아닌 것만 추출해\n",
    "    clean_tokens.append(tok) # clean_tokens 리스트에 추가\n",
    "\n",
    "Freq_dist_nltk=nltk.FreqDist(clean_tokens) # FreqDist 클래스는 문서에 사용된 단어(토큰)의 사용빈도 정보를 담는 클래스\n",
    "Freq_dist_nltk.plot(30, cumulative=False) # 상위 30개를 시각화. 누적 갯수 표시는 False"
   ]
  }
 ],
 "metadata": {
  "kernelspec": {
   "display_name": "py310_cv",
   "language": "python",
   "name": "python3"
  },
  "language_info": {
   "codemirror_mode": {
    "name": "ipython",
    "version": 3
   },
   "file_extension": ".py",
   "mimetype": "text/x-python",
   "name": "python",
   "nbconvert_exporter": "python",
   "pygments_lexer": "ipython3",
   "version": "3.10.16"
  }
 },
 "nbformat": 4,
 "nbformat_minor": 2
}
